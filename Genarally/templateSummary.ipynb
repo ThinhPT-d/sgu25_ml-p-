{
 "cells": [
  {
   "cell_type": "markdown",
   "id": "2cb75d62",
   "metadata": {},
   "source": [
    "# Project template: "
   ]
  },
  {
   "cell_type": "markdown",
   "id": "754e493e",
   "metadata": {},
   "source": [
    "\n",
    "## 1. Prepare Problem\n",
    "### a) Load libraries\n",
    "### b) Load dataset\n",
    "## 2. Summarize Data\n",
    "### a) Descriptive statistics\n",
    "### b) Data visualizations\n",
    "## 3. Prepare Data\n",
    "### a) Data Cleaning\n",
    "### b) Feature Selection\n",
    "### c) Data Transforms\n",
    "## 4. Evaluate Algorithms\n",
    "### a) Split-out validation dataset\n",
    "### b) Test options and evaluation metric\n",
    "### c) Spot Check Algorithms\n",
    "### d) Compare Algorithms\n",
    "## 5. Improve Accuracy\n",
    "### a) Algorithm Tuning\n",
    "### b) Ensembles\n",
    "## 6. Finalize Model\n",
    "### a) Predictions on validation dataset\n",
    "### b) Create standalone model on entire training dataset\n",
    "### c) Save model for later use"
   ]
  }
 ],
 "metadata": {
  "language_info": {
   "name": "python"
  }
 },
 "nbformat": 4,
 "nbformat_minor": 5
}
